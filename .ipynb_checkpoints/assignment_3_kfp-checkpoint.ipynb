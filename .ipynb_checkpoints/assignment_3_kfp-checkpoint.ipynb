{
 "cells": [
  {
   "cell_type": "code",
   "execution_count": 76,
   "metadata": {},
   "outputs": [],
   "source": [
    "import json\n",
    "import kfp\n",
    "import kfp.dsl as dsl\n",
    "import kfp.components as comp\n",
    "from kfp.components import OutputPath"
   ]
  },
  {
   "cell_type": "code",
   "execution_count": 77,
   "metadata": {},
   "outputs": [],
   "source": [
    "KFP_HOST_NAME='https://4416d5ae8a69e88e-dot-us-central2.pipelines.googleusercontent.com'\n",
    "client = kfp.Client(host=KFP_HOST_NAME)"
   ]
  },
  {
   "cell_type": "code",
   "execution_count": 78,
   "metadata": {},
   "outputs": [],
   "source": [
    "#Data Preprocessing\n",
    "def data_preprocessing(raw_data_path: str, prep_data_path: str, test_data_path: str, train_columns_path: str, bucket: str) -> str:\n",
    "\n",
    "    import pandas as pd\n",
    "    import numpy as np\n",
    "    from sklearn.preprocessing import LabelEncoder, StandardScaler,OneHotEncoder\n",
    "    from sklearn.pipeline import make_pipeline,Pipeline\n",
    "    from sklearn.compose import make_column_transformer\n",
    "    from google.cloud import storage    \n",
    "    from io import BytesIO\n",
    "\n",
    "    df = pd.read_csv(bucket + raw_data_path)\n",
    "\n",
    "\n",
    "    #deleting unwanted columns\n",
    "    drop_columns = ['id','url', 'region', 'region_url','model','title_status', 'title_status','county', 'vin', 'description','size', 'image_url', 'lat','long','state','paint_color','cylinders']\n",
    "    df = df.drop(columns=drop_columns)\n",
    "    #deleting rows with nan values\n",
    "    df = df.dropna()\n",
    "    #reformatting/cleaning numeric columns\n",
    "    df['price'] = df['price'].astype(int)\n",
    "    df['year'] = df['year'].astype(int)\n",
    "    df['odometer'] = df['odometer'].astype(int)\n",
    "    df['odometer'] = df['odometer'] // 5000\n",
    "    df = df[df['year'] > 1950]\n",
    "    df = df[(df['price']>1000) & (df['price']<50000)]\n",
    "\n",
    "    #reformatting/cleaning categorical columns\n",
    "    df['manufacturer'] = df['manufacturer'].astype(str)\n",
    "    df['condition'] = df['condition'].astype(str)\n",
    "    # df['cylinders'] = df['cylinders'].astype(str)\n",
    "    df['fuel'] = df['fuel'].astype(str)\n",
    "    df['transmission'] = df['transmission'].astype(str)\n",
    "    df['drive'] = df['drive'].astype(str)\n",
    "    df['type'] = df['type'].astype(str)\n",
    "    df=df[df['transmission']!='other']\n",
    "    df=df.reset_index()\n",
    "\n",
    "    #label encode columns\n",
    "\n",
    "    \n",
    "    conditions = {'salvage': 0, 'fair': 1, 'good': 2, 'excellent': 3, 'like new': 4, 'new': 5}\n",
    "    df['condition'].replace(conditions, inplace=True)\n",
    "    \n",
    "    transmissions={'automatic': 1, 'manual': 0}\n",
    "    df['transmission'].replace(transmissions, inplace=True)      \n",
    "\n",
    "            \n",
    "    #Creating pipeline\n",
    "\n",
    "    numerical_features=['year', 'odometer']\n",
    "    one_hot_cat_columns=['manufacturer','fuel','drive','type']\n",
    "\n",
    "\n",
    "    categoric_transformer = make_pipeline(OneHotEncoder(sparse=False,handle_unknown='ignore'))\n",
    "\n",
    "    # Creating a pipeline with mean imputer for numerical data \n",
    "    numeric_transformer =  make_pipeline(StandardScaler())  \n",
    "\n",
    "\n",
    "    # Combining both pipelines such that each pipeline works on the columns it was meant for\n",
    "    preprocessor = make_column_transformer((categoric_transformer,one_hot_cat_columns),\n",
    "                                            (numeric_transformer,numerical_features))\n",
    "    #                                           (label_transformer,lab_cat_columns))\n",
    "\n",
    "    pipe=Pipeline(steps = [('prep',preprocessor)])\n",
    "    results=pipe.fit_transform(df)\n",
    "    results=pd.DataFrame(data=results, columns=list(pd.get_dummies(df[one_hot_cat_columns]).columns)+numerical_features )\n",
    "\n",
    "    final_df=results\n",
    "    \n",
    "    final_df['condition']=df['condition']\n",
    "    final_df['transmission']=df['transmission']\n",
    "    final_df['price']=df['price']\n",
    "    \n",
    "    training_df = final_df.sample(frac=0.7,random_state= 0)\n",
    "    test_df= final_df.drop(training_df.index)\n",
    "\n",
    "    training_df.to_csv(bucket + prep_data_path, index=False)\n",
    "    test_df.to_csv(bucket + test_data_path, index=False)\n",
    "    \n",
    "    columns_series = pd.Series(training_df.columns, dtype='string', name='train_df_columns')\n",
    "    columns_series.to_csv(bucket + train_columns_path, index=False)\n",
    "    \n",
    "    return prep_data_path"
   ]
  },
  {
   "cell_type": "code",
   "execution_count": 79,
   "metadata": {},
   "outputs": [],
   "source": [
    "data_preprocessing_op = comp.create_component_from_func(\n",
    "    data_preprocessing, output_component_file='data_preprocessing.yaml', packages_to_install=['pandas','scikit-learn', 'fsspec', 'gcsfs', 'google-cloud-storage'])"
   ]
  },
  {
   "cell_type": "code",
   "execution_count": 81,
   "metadata": {},
   "outputs": [],
   "source": [
    "def lin_model_training(prep_data_path: str, bucket: str, bucket_name: str, lin_model_path: str) ->str:\n",
    "    \n",
    "    import pandas as pd\n",
    "    import numpy as np\n",
    "    from google.cloud import storage  \n",
    "    from sklearn.model_selection import train_test_split\n",
    "    import _pickle as cPickle \n",
    "    from sklearn import metrics\n",
    "    from sklearn.linear_model import LinearRegression\n",
    "    \n",
    "    df = pd.read_csv(bucket + prep_data_path)\n",
    "\n",
    "    #Seperating dataset and target variable\n",
    "    target_name = 'price'\n",
    "    df_target = df[target_name]\n",
    "    df = df.drop([target_name], axis=1)\n",
    "    #Train test split\n",
    "    train, test, target, target_test = train_test_split(df, df_target, test_size=0.2, random_state=0)\n",
    "    \n",
    "    linreg = LinearRegression()\n",
    "    linreg.fit(train, target)\n",
    "    score=linreg.score(train, target)\n",
    "    y_pred=linreg.predict(test)\n",
    "\n",
    "    print('R^2 on the train set', score)\n",
    "    print('R^2 on the test set', metrics.r2_score(target_test, y_pred))\n",
    "    \n",
    "    temp_model_path='/tmp/lin_model.pickle'\n",
    "    with open(temp_model_path, 'wb') as f:\n",
    "        cPickle.dump(linreg, f, -1)\n",
    "    \n",
    "    client = storage.Client()\n",
    "    bucket = client.get_bucket(bucket_name)\n",
    "    model = bucket.blob(lin_model_path)\n",
    "    model.upload_from_filename(temp_model_path)\n",
    "    return lin_model_path\n"
   ]
  },
  {
   "cell_type": "code",
   "execution_count": 82,
   "metadata": {},
   "outputs": [],
   "source": [
    "lin_model_training_op = comp.create_component_from_func(\n",
    "    lin_model_training, output_component_file='lin_model_training.yaml', packages_to_install=['pandas','scikit-learn', 'fsspec', 'gcsfs', 'google-cloud-storage'])"
   ]
  },
  {
   "cell_type": "code",
   "execution_count": 83,
   "metadata": {},
   "outputs": [],
   "source": [
    "def xgb_model_training(prep_data_path: str, bucket: str, bucket_name: str, xgb_model_path: str) ->str:\n",
    "    import pandas as pd\n",
    "    import numpy as np\n",
    "    from google.cloud import storage  \n",
    "    from sklearn.model_selection import train_test_split, ShuffleSplit, GridSearchCV, StratifiedKFold\n",
    "    import _pickle as cPickle \n",
    "    from sklearn import metrics\n",
    "    import xgboost as xgb\n",
    "    \n",
    "    df = pd.read_csv(bucket + prep_data_path)\n",
    "\n",
    "    #Seperating dataset and target variable\n",
    "    target_name = 'price'\n",
    "    df_target = df[target_name]\n",
    "    df = df.drop([target_name], axis=1)\n",
    "    #Train test split\n",
    "    train, test, target, target_test = train_test_split(df, df_target, test_size=0.2, random_state=0)\n",
    "    \n",
    "    xgb_clf = xgb.XGBRegressor() \n",
    "    parameters = {'n_estimators': [60, 100, 120, 140], \n",
    "              'learning_rate': [0.01, 0.1],\n",
    "              'max_depth': [5, 7],\n",
    "              'reg_lambda': [0.5]}\n",
    "    xgb_reg = GridSearchCV(estimator=xgb_clf, param_grid=parameters, cv=5, n_jobs=-1).fit(train, target)\n",
    "    print(\"Best score: %0.3f\" % xgb_reg.best_score_)\n",
    "    print(\"Best parameters set:\", xgb_reg.best_params_)\n",
    "    \n",
    "    \n",
    "    ypred = xgb_reg.predict(test)\n",
    "    print('R2 score', metrics.r2_score(target_test, ypred))\n",
    "    \n",
    "    temp_model_path='/tmp/xgb_model.pickle'\n",
    "    with open(temp_model_path, 'wb') as f:\n",
    "        cPickle.dump(xgb_reg, f, -1)\n",
    "    \n",
    "    client = storage.Client()\n",
    "    bucket = client.get_bucket(bucket_name)\n",
    "    blob = bucket.blob(xgb_model_path)\n",
    "    blob.upload_from_filename(temp_model_path)\n",
    "    return xgb_model_path\n",
    "    "
   ]
  },
  {
   "cell_type": "code",
   "execution_count": 84,
   "metadata": {},
   "outputs": [],
   "source": [
    "xgb_model_training_op = comp.create_component_from_func(\n",
    "    xgb_model_training, output_component_file='xgb_model_training.yaml', packages_to_install=['pandas','scikit-learn', 'xgboost', 'fsspec', 'gcsfs', 'google-cloud-storage'])"
   ]
  },
  {
   "cell_type": "code",
   "execution_count": 85,
   "metadata": {},
   "outputs": [],
   "source": [
    "def rf_model_training(prep_data_path: str, bucket: str, bucket_name: str, rf_model_path: str) ->str:\n",
    "    \n",
    "    import pandas as pd\n",
    "    import numpy as np\n",
    "    from google.cloud import storage  \n",
    "    from sklearn.model_selection import train_test_split, ShuffleSplit, GridSearchCV, StratifiedKFold\n",
    "    import _pickle as cPickle\n",
    "    from sklearn import metrics\n",
    "    from sklearn.ensemble import RandomForestRegressor \n",
    "\n",
    "    df = pd.read_csv(bucket + prep_data_path)\n",
    "\n",
    "    #Seperating dataset and target variable\n",
    "    target_name = 'price'\n",
    "    df_target = df[target_name]\n",
    "    df = df.drop([target_name], axis=1)\n",
    "    #Train test split\n",
    "    train, test, target, target_test = train_test_split(df, df_target, test_size=0.2, random_state=0)\n",
    " \n",
    "    #Tuning RF Parameters\n",
    "    rf_param_grid = {'n_estimators': [100, 300, 500],\n",
    "                'max_features': [0.5, 0.8]\n",
    "                }\n",
    "    rf_GS = GridSearchCV(RandomForestRegressor(n_jobs=-1), param_grid=rf_param_grid,\n",
    "                    cv=ShuffleSplit(n_splits=3,random_state=1), verbose=False, pre_dispatch='2*n_jobs')\n",
    "\n",
    "    rf_GS.fit(train, target)\n",
    "\n",
    "\n",
    "    score=rf_GS.score(train, target)\n",
    "    y_pred=rf_GS.predict(test)\n",
    "    print('R2 score', metrics.r2_score(target_test, y_pred))\n",
    "\n",
    "    temp_model_path='/tmp/rf_model.pickle'\n",
    "    with open(temp_model_path, 'wb') as f:\n",
    "        cPickle.dump(rf_GS, f, -1)\n",
    "    \n",
    "    client = storage.Client()\n",
    "    bucket = client.get_bucket(bucket_name)\n",
    "    model = bucket.blob(rf_model_path)\n",
    "    model.upload_from_filename(temp_model_path)\n",
    "    return rf_model_path"
   ]
  },
  {
   "cell_type": "code",
   "execution_count": 86,
   "metadata": {},
   "outputs": [],
   "source": [
    "rf_model_training_op = comp.create_component_from_func(\n",
    "    rf_model_training, output_component_file='rf_model_training.yaml', packages_to_install=['pandas','scikit-learn', 'fsspec', 'gcsfs', 'google-cloud-storage'])"
   ]
  },
  {
   "cell_type": "code",
   "execution_count": 87,
   "metadata": {},
   "outputs": [],
   "source": [
    "def evaluate_models(test_data_path: str, lin_model_path: str, rf_model_path: str, xgb_model_path: str, bucket: str, bucket_name: str, scores_path: str)->list:\n",
    "    \n",
    "    import pandas as pd\n",
    "    import numpy as np\n",
    "    from google.cloud import storage  \n",
    "    from sklearn.model_selection import train_test_split, ShuffleSplit, GridSearchCV, StratifiedKFold\n",
    "    import _pickle as cPickle\n",
    "    from io import BytesIO\n",
    "    from sklearn import metrics\n",
    "    import xgboost\n",
    "    \n",
    "    #load unseen test data\n",
    "    test_df = pd.read_csv(bucket + test_data_path)\n",
    "    x_test =  test_df.drop('price', axis=1)\n",
    "    y_test =  test_df['price']\n",
    "    \n",
    "    model_paths = [lin_model_path, rf_model_path, xgb_model_path]\n",
    "    \n",
    "    #iterate over models, load and score each one, keep the best\n",
    "    scores =[]\n",
    "    for path in model_paths:    \n",
    "        client = storage.Client()\n",
    "        my_bucket = client.get_bucket(bucket_name)\n",
    "        blob = my_bucket.get_blob(path)\n",
    "        if blob is None:\n",
    "            raise AttributeError('No files to download') \n",
    "        model_bytestream = BytesIO(blob.download_as_string())\n",
    "        model = cPickle.load(model_bytestream)\n",
    "        y_pred = model.predict(x_test)\n",
    "        score = metrics.mean_absolute_error(y_test, y_pred)\n",
    "        print(score)\n",
    "        scores.append({'model': path, 'score': score})\n",
    "\n",
    "    scores_df = pd.DataFrame(scores)\n",
    "    scores_df.to_csv(bucket + scores_path, index=False)\n",
    "    return scores"
   ]
  },
  {
   "cell_type": "code",
   "execution_count": 89,
   "metadata": {},
   "outputs": [],
   "source": [
    "evaluate_models_op = comp.create_component_from_func(\n",
    "    evaluate_models, output_component_file='evaluate_models.yaml', packages_to_install=['pandas','xgboost','scikit-learn', 'fsspec', 'gcsfs', 'google-cloud-storage'])"
   ]
  },
  {
   "cell_type": "code",
   "execution_count": 90,
   "metadata": {},
   "outputs": [
    {
     "name": "stdout",
     "output_type": "stream",
     "text": [
      "{{pipelineparam:op=;name=raw_data_path}} {{pipelineparam:op=;name=prep_data_path}} {{pipelineparam:op=;name=bucket}}\n"
     ]
    },
    {
     "data": {
      "text/html": [
       "<a href=\"https://4416d5ae8a69e88e-dot-us-central2.pipelines.googleusercontent.com/#/experiments/details/4a42ef7d-ec4c-49b5-9c58-b809ae3d9985\" target=\"_blank\" >Experiment details</a>."
      ],
      "text/plain": [
       "<IPython.core.display.HTML object>"
      ]
     },
     "metadata": {},
     "output_type": "display_data"
    },
    {
     "data": {
      "text/html": [
       "<a href=\"https://4416d5ae8a69e88e-dot-us-central2.pipelines.googleusercontent.com/#/runs/details/0e43ff91-f676-47bb-bb41-fc36e2604c6a\" target=\"_blank\" >Run details</a>."
      ],
      "text/plain": [
       "<IPython.core.display.HTML object>"
      ]
     },
     "metadata": {},
     "output_type": "display_data"
    },
    {
     "data": {
      "text/plain": [
       "RunPipelineResult(run_id=0e43ff91-f676-47bb-bb41-fc36e2604c6a)"
      ]
     },
     "execution_count": 90,
     "metadata": {},
     "output_type": "execute_result"
    }
   ],
   "source": [
    "@dsl.pipeline(\n",
    "  name='Used car value',\n",
    "  description='estimating the price of used cars'\n",
    ")\n",
    "\n",
    "def used_car_pipeline(raw_data_path, prep_data_path, test_data_path, train_columns_path, bucket, bucket_name, lin_model_path, rf_model_path, xgb_model_path, scores_path, disable_cache): \n",
    "    \n",
    "    print(raw_data_path, prep_data_path, bucket)\n",
    "    data_preprocessing_task = data_preprocessing_op(raw_data_path, prep_data_path, test_data_path, train_columns_path, bucket)\n",
    "    lin_model_training_task = lin_model_training_op(data_preprocessing_task.output, bucket, bucket_name, lin_model_path)\n",
    "    rf_model_training_task = rf_model_training_op(data_preprocessing_task.output, bucket, bucket_name, rf_model_path)\n",
    "    xgb_model_training_task = xgb_model_training_op(data_preprocessing_task.output, bucket, bucket_name, xgb_model_path)\n",
    "    evaluate_models_task = evaluate_models_op(test_data_path, lin_model_training_task.output, rf_model_training_task.output, xgb_model_training_task.output, bucket, bucket_name, scores_path)\n",
    "\n",
    "    if disable_cache:\n",
    "        data_preprocessing_task.execution_options.caching_strategy.max_cache_staleness = \"P0D\"\n",
    "        rf_model_training_task.execution_options.caching_strategy.max_cache_staleness = \"P0D\"\n",
    "        lin_model_training_task.execution_options.caching_strategy.max_cache_staleness = \"P0D\"\n",
    "        xgb_model_training_task.execution_options.caching_strategy.max_cache_staleness = \"P0D\"\n",
    "        evaluate_models_task.execution_options.caching_strategy.max_cache_staleness = \"P0D\"\n",
    "        \n",
    "        \n",
    "arguments = {\n",
    "    'raw_data_path': '/data/ten_percent_vehicles.csv',\n",
    "    'prep_data_path': '/data/prep_vehicles.csv',\n",
    "    'test_data_path': '/data/test_prep_vehicles.csv',\n",
    "    'train_columns_path': '/data/train_columns.csv',\n",
    "    'bucket': 'gs://de-3',\n",
    "    'bucket_name': 'de-3',\n",
    "    'lin_model_path': 'models/lin_model.pickle',\n",
    "    'rf_model_path': 'models/rf_model.pickle',\n",
    "    'xgb_model_path': 'models/xgb_model.pickle',\n",
    "    'scores_path': '/models/scores.csv',\n",
    "    'disable_cache': True\n",
    "}\n",
    "\n",
    "# Create a pipeline run\n",
    "client.create_run_from_pipeline_func(used_car_pipeline, arguments= arguments)"
   ]
  }
 ],
 "metadata": {
  "environment": {
   "name": "common-cpu.m59",
   "type": "gcloud",
   "uri": "gcr.io/deeplearning-platform-release/base-cpu:m59"
  },
  "kernelspec": {
   "display_name": "Python 3",
   "language": "python",
   "name": "python3"
  },
  "language_info": {
   "codemirror_mode": {
    "name": "ipython",
    "version": 3
   },
   "file_extension": ".py",
   "mimetype": "text/x-python",
   "name": "python",
   "nbconvert_exporter": "python",
   "pygments_lexer": "ipython3",
   "version": "3.7.8"
  }
 },
 "nbformat": 4,
 "nbformat_minor": 4
}
