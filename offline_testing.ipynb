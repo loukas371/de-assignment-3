{
 "cells": [
  {
   "cell_type": "code",
   "execution_count": 10,
   "metadata": {},
   "outputs": [],
   "source": [
    "def data_preprocessing(raw_data_path, prep_data_path, bucket):\n",
    "\n",
    "    import pandas as pd\n",
    "    import numpy as np\n",
    "    from sklearn.preprocessing import LabelEncoder, StandardScaler,OneHotEncoder\n",
    "    from sklearn.pipeline import make_pipeline,Pipeline\n",
    "    from sklearn.compose import make_column_transformer\n",
    "    from google.cloud import storage    \n",
    "    from io import BytesIO\n",
    "\n",
    "    # client = storage.Client()\n",
    "    # file_name = raw_data\n",
    "    # bucket = client.get_bucket(bucket_name)\n",
    "    # blob = bucket.get_blob(raw_data)\n",
    "    # content = blob.download_as_string()\n",
    "    #df = pd.read_csv(BytesIO(content))\n",
    "    df = pd.read_csv(bucket + raw_data_path)\n",
    "\n",
    "\n",
    "    #deleting unwanted columns\n",
    "    drop_columns = ['id','url', 'region', 'region_url','model','title_status', 'title_status','county', 'vin', 'description','size', 'image_url', 'lat','long','state','paint_color','cylinders']\n",
    "    df = df.drop(columns=drop_columns)\n",
    "    #deleting rows with nan values\n",
    "    df = df.dropna()\n",
    "    #reformatting/cleaning numeric columns\n",
    "    df['price'] = df['price'].astype(int)\n",
    "    df['year'] = df['year'].astype(int)\n",
    "    df['odometer'] = df['odometer'].astype(int)\n",
    "    df['odometer'] = df['odometer'] // 5000\n",
    "    df = df[df['year'] > 110]\n",
    "    df = df[(df['price']>1000) & (df['price']<50000)]\n",
    "\n",
    "    #reformatting/cleaning categorical columns\n",
    "    df['manufacturer'] = df['manufacturer'].astype(str)\n",
    "    df['condition'] = df['condition'].astype(str)\n",
    "    # df['cylinders'] = df['cylinders'].astype(str)\n",
    "    df['fuel'] = df['fuel'].astype(str)\n",
    "    df['transmission'] = df['transmission'].astype(str)\n",
    "    df['drive'] = df['drive'].astype(str)\n",
    "    df['type'] = df['type'].astype(str)\n",
    "    df=df[df['transmission']!='other']\n",
    "    df=df.reset_index()\n",
    "\n",
    "    #label encode columns\n",
    "\n",
    "    lab_cat_columns=['condition','transmission']\n",
    "\n",
    "    for col in lab_cat_columns:\n",
    "        if col in df.columns:\n",
    "            le = LabelEncoder()\n",
    "            le.fit(list(df[col].astype(str).values))\n",
    "            df[col] = le.transform(list(df[col].astype(str).values))\n",
    "            \n",
    "    #Creating pipeline\n",
    "\n",
    "    numerical_features=['year', 'odometer']\n",
    "    one_hot_cat_columns=['manufacturer','fuel','drive','type']\n",
    "\n",
    "\n",
    "    categoric_transformer = make_pipeline(OneHotEncoder(sparse=False,handle_unknown='ignore'))\n",
    "\n",
    "    # Creating a pipeline with mean imputer for numerical data \n",
    "    numeric_transformer =  make_pipeline(StandardScaler())  \n",
    "\n",
    "    #Creating label transformer\n",
    "\n",
    "    # label_transformer=make_pipeline(LabelEncoder())\n",
    "\n",
    "    # Combining both pipelines such that each pipeline works on the columns it was meant for\n",
    "    preprocessor = make_column_transformer((categoric_transformer,one_hot_cat_columns),\n",
    "                                            (numeric_transformer,numerical_features))\n",
    "    #                                           (label_transformer,lab_cat_columns))\n",
    "\n",
    "    pipe=Pipeline(steps = [('prep',preprocessor)])\n",
    "    results=pipe.fit_transform(df)\n",
    "    results=pd.DataFrame(data=results, columns=list(pd.get_dummies(df[one_hot_cat_columns]).columns)+numerical_features )\n",
    "\n",
    "    final_df=results\n",
    "    # final_df['year']=df['year']\n",
    "    # final_df['odometer']=df['odometer']\n",
    "    final_df['condition']=df['condition']\n",
    "    final_df['transmission']=df['transmission']\n",
    "    final_df['price']=df['price']\n",
    "\n",
    "    final_df.to_csv(bucket + prep_data_path)\n",
    "    return prep_data_path"
   ]
  },
  {
   "cell_type": "code",
   "execution_count": 11,
   "metadata": {},
   "outputs": [
    {
     "data": {
      "text/plain": [
       "'/data/prep_vehicles.csv'"
      ]
     },
     "execution_count": 11,
     "metadata": {},
     "output_type": "execute_result"
    }
   ],
   "source": [
    "data_preprocessing('/data/raw_vehicles.csv', '/data/prep_vehicles.csv', 'gs://de-3')"
   ]
  },
  {
   "cell_type": "code",
   "execution_count": 19,
   "metadata": {},
   "outputs": [],
   "source": [
    "def rf_model_training(prep_data_path, bucket, bucket_name, model_path):\n",
    "    \n",
    "    import pandas as pd\n",
    "    import numpy as np\n",
    "    from google.cloud import storage  \n",
    "    from sklearn.model_selection import train_test_split, ShuffleSplit, GridSearchCV, StratifiedKFold\n",
    "    import _pickle as cPickle \n",
    "    from sklearn import metrics\n",
    "    from sklearn.ensemble import RandomForestRegressor  \n",
    "    from urllib.parse import urlparse\n",
    "\n",
    "    df = pd.read_csv(bucket + prep_data_path)\n",
    "\n",
    "    #Seperating dataset and target variable\n",
    "    target_name = 'price'\n",
    "    df_target = df[target_name]\n",
    "    df = df.drop([target_name], axis=1)\n",
    "    #Train test split\n",
    "    train, test, target, target_test = train_test_split(df, df_target, test_size=0.2, random_state=0)\n",
    "    #return [train, test, target, target_test]\n",
    "\n",
    "    #read preprocessed data\n",
    "    #train, test, target, target_test = _read_and_split_data(prep_data_path, bucket)\n",
    "    #Tuning RF Parameters\n",
    "    rf_param_grid = {'n_estimators': [100,500],\n",
    "                'max_features': [0.2,0.7]\n",
    "                }\n",
    "    rf_GS = GridSearchCV(RandomForestRegressor(n_jobs=-1), param_grid=rf_param_grid,\n",
    "                    cv=ShuffleSplit(n_splits=3,random_state=1), verbose=False, pre_dispatch='2*n_jobs')\n",
    "\n",
    "    rf_GS.fit(train, target)\n",
    "\n",
    "\n",
    "    score=rf_GS.score(train, target)\n",
    "    y_pred=rf_GS.predict(test)\n",
    "    #print('R^2 on the train set', score)\n",
    "    print('R2 score', metrics.r2_score(target_test, y_pred))\n",
    "\n",
    "    temp_model_path='/tmp/rf_model.pickle'\n",
    "    with open(temp_model_path, 'wb') as f:\n",
    "        cPickle.dump(rf_GS, f, -1)\n",
    "    \n",
    "    parse = urlparse(url=bucket+model_path, allow_fragments=False)\n",
    "    print(parse.path)\n",
    "    print(parse.netloc)\n",
    "    \n",
    "    if parse.path[0] =='/':\n",
    "        parsed_model_path = parse.path[1:]\n",
    "    client = storage.Client()\n",
    "    bucket = client.get_bucket(parse.netloc)\n",
    "    model = bucket.blob(parsed_model_path)\n",
    "    model.upload_from_filename(temp_model_path)\n",
    "    return model_path"
   ]
  },
  {
   "cell_type": "code",
   "execution_count": 20,
   "metadata": {},
   "outputs": [
    {
     "name": "stdout",
     "output_type": "stream",
     "text": [
      "R2 score 0.7816622118347524\n",
      "/models/rf_model.pickle\n",
      "de-3\n"
     ]
    },
    {
     "data": {
      "text/plain": [
       "'/models/rf_model.pickle'"
      ]
     },
     "execution_count": 20,
     "metadata": {},
     "output_type": "execute_result"
    }
   ],
   "source": [
    "rf_model_training('/data/prep_vehicles.csv', 'gs://de-3','de-3', '/models/rf_model.pickle')"
   ]
  },
  {
   "cell_type": "code",
   "execution_count": null,
   "metadata": {},
   "outputs": [],
   "source": []
  }
 ],
 "metadata": {
  "environment": {
   "name": "common-cpu.m59",
   "type": "gcloud",
   "uri": "gcr.io/deeplearning-platform-release/base-cpu:m59"
  },
  "kernelspec": {
   "display_name": "Python 3",
   "language": "python",
   "name": "python3"
  },
  "language_info": {
   "codemirror_mode": {
    "name": "ipython",
    "version": 3
   },
   "file_extension": ".py",
   "mimetype": "text/x-python",
   "name": "python",
   "nbconvert_exporter": "python",
   "pygments_lexer": "ipython3",
   "version": "3.7.8"
  }
 },
 "nbformat": 4,
 "nbformat_minor": 4
}
